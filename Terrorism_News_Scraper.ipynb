{
 "cells": [
  {
   "cell_type": "code",
   "execution_count": 1,
   "id": "b0ca752b-649a-4de2-9898-a3c834b4e4bd",
   "metadata": {},
   "outputs": [],
   "source": [
    "import requests\n",
    "from bs4 import BeautifulSoup\n",
    "import re\n",
    "from urllib.parse import urljoin\n",
    "import time"
   ]
  },
  {
   "cell_type": "code",
   "execution_count": 2,
   "id": "2a92e50f-50ee-4b52-80e1-c963aa485357",
   "metadata": {},
   "outputs": [],
   "source": [
    "news_websites = [\n",
    "    \"https://www.bbc.com/news\",\n",
    "    \"https://www.reuters.com/news\",\n",
    "    \"https://www.theguardian.com/world\"\n",
    "]\n",
    "\n",
    "KEYWORD = \"terrorism\"\n",
    "\n",
    "def fetch_articles(url, keyword):\n",
    "    try:\n",
    "        response = requests.get(url, timeout=10)\n",
    "        response.raise_for_status()\n",
    "    except requests.RequestException as e:\n",
    "        print(f\"Failed to fetch {url}: {e}\")\n",
    "        return []\n",
    "\n",
    "    soup = BeautifulSoup(response.text, 'html.parser')\n",
    "    links = soup.find_all('a', href=True)\n",
    "\n",
    "    relevant_articles = []\n",
    "    seen = set()\n",
    "\n",
    "    for link in links:\n",
    "        text = link.get_text(strip=True)\n",
    "        href = link['href']\n",
    "\n",
    "        if keyword.lower() in text.lower():\n",
    "            full_url = urljoin(url, href)\n",
    "            if full_url not in seen:\n",
    "                seen.add(full_url)\n",
    "                relevant_articles.append({\n",
    "                    'title': text,\n",
    "                    'url': full_url,\n",
    "                    'source': url\n",
    "                })\n",
    "\n",
    "    return relevant_articles"
   ]
  },
  {
   "cell_type": "code",
   "execution_count": 3,
   "id": "59bdd85c-d94e-490a-bd96-2f39bf262b31",
   "metadata": {},
   "outputs": [
    {
     "name": "stdout",
     "output_type": "stream",
     "text": [
      "Scraping: https://www.bbc.com/news\n",
      "Scraping: https://www.reuters.com/news\n",
      "Failed to fetch https://www.reuters.com/news: 401 Client Error: HTTP Forbidden for url: https://www.reuters.com/news\n",
      "Scraping: https://www.theguardian.com/world\n"
     ]
    }
   ],
   "source": [
    "def scrape_news(websites, keyword):\n",
    "    all_articles = []\n",
    "    for site in websites:\n",
    "        print(f\"Scraping: {site}\")\n",
    "        articles = fetch_articles(site, keyword)\n",
    "        all_articles.extend(articles)\n",
    "        time.sleep(1)  # Be polite\n",
    "\n",
    "    return all_articles\n",
    "\n",
    "if __name__ == \"__main__\":\n",
    "    results = scrape_news(news_websites, KEYWORD)\n",
    "    for article in results:\n",
    "        print(f\"Title: {article['title']}\\nURL: {article['url']}\\n\")"
   ]
  },
  {
   "cell_type": "code",
   "execution_count": 4,
   "id": "edc6f470-cfb2-44d8-9e07-454496da8c43",
   "metadata": {},
   "outputs": [
    {
     "name": "stdout",
     "output_type": "stream",
     "text": [
      "Scraping: https://www.bbc.com/news\n",
      "Scraping: https://www.reuters.com/news\n",
      "Failed to fetch https://www.reuters.com/news: 401 Client Error: HTTP Forbidden for url: https://www.reuters.com/news\n",
      "Scraping: https://www.theguardian.com/world\n",
      "Saved 0 articles to 'terrorism_articles.csv'\n"
     ]
    }
   ],
   "source": [
    "import csv\n",
    "\n",
    "if __name__ == \"__main__\":\n",
    "    results = scrape_news(news_websites, KEYWORD)\n",
    "\n",
    "    # Save to CSV\n",
    "    with open('terrorism_articles.csv', 'w', newline='', encoding='utf-8') as csvfile:\n",
    "        fieldnames = ['title', 'url', 'source']\n",
    "        writer = csv.DictWriter(csvfile, fieldnames=fieldnames)\n",
    "\n",
    "        writer.writeheader()\n",
    "        for article in results:\n",
    "            writer.writerow(article)\n",
    "\n",
    "    print(f\"Saved {len(results)} articles to 'terrorism_articles.csv'\")\n"
   ]
  },
  {
   "cell_type": "code",
   "execution_count": null,
   "id": "67d2764f-2e29-4a74-b9ab-639a28f54ba2",
   "metadata": {},
   "outputs": [],
   "source": []
  }
 ],
 "metadata": {
  "kernelspec": {
   "display_name": "Python 3 (ipykernel)",
   "language": "python",
   "name": "python3"
  },
  "language_info": {
   "codemirror_mode": {
    "name": "ipython",
    "version": 3
   },
   "file_extension": ".py",
   "mimetype": "text/x-python",
   "name": "python",
   "nbconvert_exporter": "python",
   "pygments_lexer": "ipython3",
   "version": "3.10.14"
  }
 },
 "nbformat": 4,
 "nbformat_minor": 5
}
