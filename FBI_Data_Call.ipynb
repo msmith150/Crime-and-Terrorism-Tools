{
 "cells": [
  {
   "cell_type": "code",
   "execution_count": 4,
   "id": "b5511f38-260d-4111-be50-b7a8bde9ec6a",
   "metadata": {},
   "outputs": [],
   "source": [
    "# Dependencies and Setup\n",
    "import matplotlib.pyplot as plt\n",
    "import pandas as pd\n",
    "import numpy as np\n",
    "import requests\n",
    "import time\n",
    "from scipy.stats import linregress\n",
    "\n",
    "# Import the OpenWeatherMap API key\n",
    "from api_keys import fbi_api_key\n",
    "\n",
    "# Import citipy to determine the cities based on latitude and longitude\n",
    "# from citipy import citipy"
   ]
  },
  {
   "cell_type": "code",
   "execution_count": 18,
   "id": "a493ae50-f16b-4b40-98d8-21dda236608c",
   "metadata": {},
   "outputs": [],
   "source": [
    "url = \"https://api.usa.gov/crime/fbi/cde/\""
   ]
  },
  {
   "cell_type": "code",
   "execution_count": 31,
   "id": "d13d8029-f0a3-41ad-ac2a-0623b03ed74b",
   "metadata": {},
   "outputs": [],
   "source": [
    "  # Create endpoint URL for all arrest numbers by state\n",
    "search_type = \"arrest\"\n",
    "state = \"CO\"\n",
    "start_year = 2020\n",
    "end_year = 2024\n",
    "# arrest_url = f\"{url}/{search_type}/{state}/all?from={start_year}&to={end_year}&API_KEY={fbi_api_key}\"\n",
    "arrest_url = f\"{url}{search_type}/state/{state}/all?from={start_year}&to={end_year}&API_KEY={fbi_api_key}\"\n",
    "# https://api.usa.gov/crime/fbi/cde/arrest/state/CO/all?from=2020&to=2024&API_KEY=iiHnOKfno2Mgkt5AynpvPpUQTEyxE77jo1RU8PIv"
   ]
  },
  {
   "cell_type": "code",
   "execution_count": 32,
   "id": "59907b21-884e-4e1c-980b-442890e720d7",
   "metadata": {},
   "outputs": [
    {
     "name": "stdout",
     "output_type": "stream",
     "text": [
      "https://api.usa.gov/crime/fbi/cde/arrest/state/CO/all?from=2020&to=2024&API_KEY=McCuFHkg7Cc1nGkKwAvmyCa8Og11Cgd7IkVH0zOG\n"
     ]
    }
   ],
   "source": [
    "print(arrest_url)"
   ]
  },
  {
   "cell_type": "code",
   "execution_count": 41,
   "id": "39f1a62f-f2a4-4581-8cf0-d8cc552e1f23",
   "metadata": {},
   "outputs": [
    {
     "data": {
      "text/plain": [
       "{'title': 'All Arrest by Offense',\n",
       " 'keys': ['Aggravated Assault',\n",
       "  'All Other Offenses (Except Traffic)',\n",
       "  'Arson',\n",
       "  'Burglary',\n",
       "  'Curfew and Loitering Law Violations',\n",
       "  'Disorderly Conduct',\n",
       "  'Driving Under the Influence',\n",
       "  'Drug Abuse Violations - Grand Total',\n",
       "  'Drunkenness',\n",
       "  'Embezzlement',\n",
       "  'Forgery and Counterfeiting',\n",
       "  'Fraud',\n",
       "  'Gambling - Total',\n",
       "  'Human Trafficking - Commercial Sex Acts',\n",
       "  'Human Trafficking - Involuntary Servitude',\n",
       "  'Larceny - Theft',\n",
       "  'Liquor Laws',\n",
       "  'Manslaughter by Negligence',\n",
       "  'Motor Vehicle Theft',\n",
       "  'Murder and Nonnegligent Manslaughter',\n",
       "  'Offenses Against the Family and Children',\n",
       "  'Prostitution and Commercialized Vice',\n",
       "  'Rape',\n",
       "  'Robbery',\n",
       "  'Sex Offenses (Except Rape, and Prostitution and Commercialized Vice)',\n",
       "  'Simple Assault',\n",
       "  'Stolen Property: Buying, Receiving, Possessing',\n",
       "  'Suspicion',\n",
       "  'Vagrancy',\n",
       "  'Vandalism',\n",
       "  'Weapons: Carrying, Possessing, Etc.'],\n",
       " 'data': [{'data_year': 2020,\n",
       "   'Aggravated Assault': 7294,\n",
       "   'All Other Offenses (Except Traffic)': 61262,\n",
       "   'Arson': 315,\n",
       "   'Burglary': 2901,\n",
       "   'Curfew and Loitering Law Violations': 334,\n",
       "   'Disorderly Conduct': 4926,\n",
       "   'Driving Under the Influence': 16588,\n",
       "   'Drug Abuse Violations - Grand Total': 10640,\n",
       "   'Drunkenness': 203,\n",
       "   'Embezzlement': 72,\n",
       "   'Forgery and Counterfeiting': 545,\n",
       "   'Fraud': 2087,\n",
       "   'Gambling - Total': 0,\n",
       "   'Human Trafficking - Commercial Sex Acts': 5,\n",
       "   'Human Trafficking - Involuntary Servitude': 0,\n",
       "   'Larceny - Theft': 16516,\n",
       "   'Liquor Laws': 4073,\n",
       "   'Manslaughter by Negligence': 26,\n",
       "   'Motor Vehicle Theft': 3631,\n",
       "   'Murder and Nonnegligent Manslaughter': 267,\n",
       "   'Offenses Against the Family and Children': 2162,\n",
       "   'Prostitution and Commercialized Vice': 131,\n",
       "   'Rape': 489,\n",
       "   'Robbery': 1260,\n",
       "   'Simple Assault': 17033,\n",
       "   'Stolen Property: Buying, Receiving, Possessing': 765,\n",
       "   'Suspicion': 0,\n",
       "   'Vagrancy': 397,\n",
       "   'Vandalism': 5817,\n",
       "   'Weapons: Carrying, Possessing, Etc.': 2488,\n",
       "   'Sex Offenses (Except Rape, and Prostitution and Commercialized Vice)': 362},\n",
       "  {'data_year': 2021,\n",
       "   'Aggravated Assault': 6697,\n",
       "   'All Other Offenses (Except Traffic)': 63023,\n",
       "   'Arson': 307,\n",
       "   'Burglary': 2498,\n",
       "   'Curfew and Loitering Law Violations': 161,\n",
       "   'Disorderly Conduct': 4419,\n",
       "   'Driving Under the Influence': 17294,\n",
       "   'Drug Abuse Violations - Grand Total': 10326,\n",
       "   'Drunkenness': 0,\n",
       "   'Embezzlement': 73,\n",
       "   'Forgery and Counterfeiting': 378,\n",
       "   'Fraud': 1669,\n",
       "   'Gambling - Total': 2,\n",
       "   'Human Trafficking - Commercial Sex Acts': 4,\n",
       "   'Human Trafficking - Involuntary Servitude': 0,\n",
       "   'Larceny - Theft': 12875,\n",
       "   'Liquor Laws': 3033,\n",
       "   'Manslaughter by Negligence': 24,\n",
       "   'Motor Vehicle Theft': 4102,\n",
       "   'Murder and Nonnegligent Manslaughter': 233,\n",
       "   'Offenses Against the Family and Children': 2227,\n",
       "   'Prostitution and Commercialized Vice': 210,\n",
       "   'Rape': 459,\n",
       "   'Robbery': 1186,\n",
       "   'Simple Assault': 16306,\n",
       "   'Stolen Property: Buying, Receiving, Possessing': 984,\n",
       "   'Suspicion': 0,\n",
       "   'Vagrancy': 89,\n",
       "   'Vandalism': 5627,\n",
       "   'Weapons: Carrying, Possessing, Etc.': 2550,\n",
       "   'Sex Offenses (Except Rape, and Prostitution and Commercialized Vice)': 391},\n",
       "  {'data_year': 2022,\n",
       "   'Aggravated Assault': 7125,\n",
       "   'All Other Offenses (Except Traffic)': 69339,\n",
       "   'Arson': 311,\n",
       "   'Burglary': 2524,\n",
       "   'Curfew and Loitering Law Violations': 122,\n",
       "   'Disorderly Conduct': 4291,\n",
       "   'Driving Under the Influence': 16155,\n",
       "   'Drug Abuse Violations - Grand Total': 10946,\n",
       "   'Drunkenness': 0,\n",
       "   'Embezzlement': 75,\n",
       "   'Forgery and Counterfeiting': 377,\n",
       "   'Fraud': 1415,\n",
       "   'Gambling - Total': 0,\n",
       "   'Human Trafficking - Commercial Sex Acts': 11,\n",
       "   'Human Trafficking - Involuntary Servitude': 0,\n",
       "   'Larceny - Theft': 12596,\n",
       "   'Liquor Laws': 2194,\n",
       "   'Manslaughter by Negligence': 32,\n",
       "   'Motor Vehicle Theft': 4006,\n",
       "   'Murder and Nonnegligent Manslaughter': 277,\n",
       "   'Offenses Against the Family and Children': 2272,\n",
       "   'Prostitution and Commercialized Vice': 147,\n",
       "   'Rape': 415,\n",
       "   'Robbery': 1062,\n",
       "   'Simple Assault': 16681,\n",
       "   'Stolen Property: Buying, Receiving, Possessing': 1122,\n",
       "   'Suspicion': 0,\n",
       "   'Vagrancy': 167,\n",
       "   'Vandalism': 5270,\n",
       "   'Weapons: Carrying, Possessing, Etc.': 2280,\n",
       "   'Sex Offenses (Except Rape, and Prostitution and Commercialized Vice)': 403}]}"
      ]
     },
     "metadata": {},
     "output_type": "display_data"
    }
   ],
   "source": [
    "# Make the GET request\n",
    "response = requests.get(arrest_url)\n",
    "\n",
    "# Check if the request was successful\n",
    "if response.status_code == 200:\n",
    "    # Parse the JSON data\n",
    "    arrest_data = response.json()\n",
    "    # Do something with the data\n",
    "    display(arrest_data)\n",
    "else:\n",
    "    print(f\"Failed to retrieve data: {response.status_code}\")"
   ]
  },
  {
   "cell_type": "code",
   "execution_count": 40,
   "id": "cbc05ad6-3d02-4c28-add8-ae196d675ce9",
   "metadata": {},
   "outputs": [
    {
     "ename": "ValueError",
     "evalue": "All arrays must be of the same length",
     "output_type": "error",
     "traceback": [
      "\u001b[1;31m---------------------------------------------------------------------------\u001b[0m",
      "\u001b[1;31mValueError\u001b[0m                                Traceback (most recent call last)",
      "Cell \u001b[1;32mIn[40], line 1\u001b[0m\n\u001b[1;32m----> 1\u001b[0m arrest_data_df \u001b[38;5;241m=\u001b[39m \u001b[43mpd\u001b[49m\u001b[38;5;241;43m.\u001b[39;49m\u001b[43mDataFrame\u001b[49m\u001b[43m(\u001b[49m\u001b[43marrest_data\u001b[49m\u001b[43m)\u001b[49m\n\u001b[0;32m      2\u001b[0m \u001b[38;5;28mprint\u001b[39m(arrest_data_df)\n",
      "File \u001b[1;32m~\\AppData\\Local\\anaconda3\\envs\\dev\\lib\\site-packages\\pandas\\core\\frame.py:778\u001b[0m, in \u001b[0;36mDataFrame.__init__\u001b[1;34m(self, data, index, columns, dtype, copy)\u001b[0m\n\u001b[0;32m    772\u001b[0m     mgr \u001b[38;5;241m=\u001b[39m \u001b[38;5;28mself\u001b[39m\u001b[38;5;241m.\u001b[39m_init_mgr(\n\u001b[0;32m    773\u001b[0m         data, axes\u001b[38;5;241m=\u001b[39m{\u001b[38;5;124m\"\u001b[39m\u001b[38;5;124mindex\u001b[39m\u001b[38;5;124m\"\u001b[39m: index, \u001b[38;5;124m\"\u001b[39m\u001b[38;5;124mcolumns\u001b[39m\u001b[38;5;124m\"\u001b[39m: columns}, dtype\u001b[38;5;241m=\u001b[39mdtype, copy\u001b[38;5;241m=\u001b[39mcopy\n\u001b[0;32m    774\u001b[0m     )\n\u001b[0;32m    776\u001b[0m \u001b[38;5;28;01melif\u001b[39;00m \u001b[38;5;28misinstance\u001b[39m(data, \u001b[38;5;28mdict\u001b[39m):\n\u001b[0;32m    777\u001b[0m     \u001b[38;5;66;03m# GH#38939 de facto copy defaults to False only in non-dict cases\u001b[39;00m\n\u001b[1;32m--> 778\u001b[0m     mgr \u001b[38;5;241m=\u001b[39m \u001b[43mdict_to_mgr\u001b[49m\u001b[43m(\u001b[49m\u001b[43mdata\u001b[49m\u001b[43m,\u001b[49m\u001b[43m \u001b[49m\u001b[43mindex\u001b[49m\u001b[43m,\u001b[49m\u001b[43m \u001b[49m\u001b[43mcolumns\u001b[49m\u001b[43m,\u001b[49m\u001b[43m \u001b[49m\u001b[43mdtype\u001b[49m\u001b[38;5;241;43m=\u001b[39;49m\u001b[43mdtype\u001b[49m\u001b[43m,\u001b[49m\u001b[43m \u001b[49m\u001b[43mcopy\u001b[49m\u001b[38;5;241;43m=\u001b[39;49m\u001b[43mcopy\u001b[49m\u001b[43m,\u001b[49m\u001b[43m \u001b[49m\u001b[43mtyp\u001b[49m\u001b[38;5;241;43m=\u001b[39;49m\u001b[43mmanager\u001b[49m\u001b[43m)\u001b[49m\n\u001b[0;32m    779\u001b[0m \u001b[38;5;28;01melif\u001b[39;00m \u001b[38;5;28misinstance\u001b[39m(data, ma\u001b[38;5;241m.\u001b[39mMaskedArray):\n\u001b[0;32m    780\u001b[0m     \u001b[38;5;28;01mfrom\u001b[39;00m \u001b[38;5;21;01mnumpy\u001b[39;00m\u001b[38;5;21;01m.\u001b[39;00m\u001b[38;5;21;01mma\u001b[39;00m \u001b[38;5;28;01mimport\u001b[39;00m mrecords\n",
      "File \u001b[1;32m~\\AppData\\Local\\anaconda3\\envs\\dev\\lib\\site-packages\\pandas\\core\\internals\\construction.py:503\u001b[0m, in \u001b[0;36mdict_to_mgr\u001b[1;34m(data, index, columns, dtype, typ, copy)\u001b[0m\n\u001b[0;32m    499\u001b[0m     \u001b[38;5;28;01melse\u001b[39;00m:\n\u001b[0;32m    500\u001b[0m         \u001b[38;5;66;03m# dtype check to exclude e.g. range objects, scalars\u001b[39;00m\n\u001b[0;32m    501\u001b[0m         arrays \u001b[38;5;241m=\u001b[39m [x\u001b[38;5;241m.\u001b[39mcopy() \u001b[38;5;28;01mif\u001b[39;00m \u001b[38;5;28mhasattr\u001b[39m(x, \u001b[38;5;124m\"\u001b[39m\u001b[38;5;124mdtype\u001b[39m\u001b[38;5;124m\"\u001b[39m) \u001b[38;5;28;01melse\u001b[39;00m x \u001b[38;5;28;01mfor\u001b[39;00m x \u001b[38;5;129;01min\u001b[39;00m arrays]\n\u001b[1;32m--> 503\u001b[0m \u001b[38;5;28;01mreturn\u001b[39;00m \u001b[43marrays_to_mgr\u001b[49m\u001b[43m(\u001b[49m\u001b[43marrays\u001b[49m\u001b[43m,\u001b[49m\u001b[43m \u001b[49m\u001b[43mcolumns\u001b[49m\u001b[43m,\u001b[49m\u001b[43m \u001b[49m\u001b[43mindex\u001b[49m\u001b[43m,\u001b[49m\u001b[43m \u001b[49m\u001b[43mdtype\u001b[49m\u001b[38;5;241;43m=\u001b[39;49m\u001b[43mdtype\u001b[49m\u001b[43m,\u001b[49m\u001b[43m \u001b[49m\u001b[43mtyp\u001b[49m\u001b[38;5;241;43m=\u001b[39;49m\u001b[43mtyp\u001b[49m\u001b[43m,\u001b[49m\u001b[43m \u001b[49m\u001b[43mconsolidate\u001b[49m\u001b[38;5;241;43m=\u001b[39;49m\u001b[43mcopy\u001b[49m\u001b[43m)\u001b[49m\n",
      "File \u001b[1;32m~\\AppData\\Local\\anaconda3\\envs\\dev\\lib\\site-packages\\pandas\\core\\internals\\construction.py:114\u001b[0m, in \u001b[0;36marrays_to_mgr\u001b[1;34m(arrays, columns, index, dtype, verify_integrity, typ, consolidate)\u001b[0m\n\u001b[0;32m    111\u001b[0m \u001b[38;5;28;01mif\u001b[39;00m verify_integrity:\n\u001b[0;32m    112\u001b[0m     \u001b[38;5;66;03m# figure out the index, if necessary\u001b[39;00m\n\u001b[0;32m    113\u001b[0m     \u001b[38;5;28;01mif\u001b[39;00m index \u001b[38;5;129;01mis\u001b[39;00m \u001b[38;5;28;01mNone\u001b[39;00m:\n\u001b[1;32m--> 114\u001b[0m         index \u001b[38;5;241m=\u001b[39m \u001b[43m_extract_index\u001b[49m\u001b[43m(\u001b[49m\u001b[43marrays\u001b[49m\u001b[43m)\u001b[49m\n\u001b[0;32m    115\u001b[0m     \u001b[38;5;28;01melse\u001b[39;00m:\n\u001b[0;32m    116\u001b[0m         index \u001b[38;5;241m=\u001b[39m ensure_index(index)\n",
      "File \u001b[1;32m~\\AppData\\Local\\anaconda3\\envs\\dev\\lib\\site-packages\\pandas\\core\\internals\\construction.py:677\u001b[0m, in \u001b[0;36m_extract_index\u001b[1;34m(data)\u001b[0m\n\u001b[0;32m    675\u001b[0m lengths \u001b[38;5;241m=\u001b[39m \u001b[38;5;28mlist\u001b[39m(\u001b[38;5;28mset\u001b[39m(raw_lengths))\n\u001b[0;32m    676\u001b[0m \u001b[38;5;28;01mif\u001b[39;00m \u001b[38;5;28mlen\u001b[39m(lengths) \u001b[38;5;241m>\u001b[39m \u001b[38;5;241m1\u001b[39m:\n\u001b[1;32m--> 677\u001b[0m     \u001b[38;5;28;01mraise\u001b[39;00m \u001b[38;5;167;01mValueError\u001b[39;00m(\u001b[38;5;124m\"\u001b[39m\u001b[38;5;124mAll arrays must be of the same length\u001b[39m\u001b[38;5;124m\"\u001b[39m)\n\u001b[0;32m    679\u001b[0m \u001b[38;5;28;01mif\u001b[39;00m have_dicts:\n\u001b[0;32m    680\u001b[0m     \u001b[38;5;28;01mraise\u001b[39;00m \u001b[38;5;167;01mValueError\u001b[39;00m(\n\u001b[0;32m    681\u001b[0m         \u001b[38;5;124m\"\u001b[39m\u001b[38;5;124mMixing dicts with non-Series may lead to ambiguous ordering.\u001b[39m\u001b[38;5;124m\"\u001b[39m\n\u001b[0;32m    682\u001b[0m     )\n",
      "\u001b[1;31mValueError\u001b[0m: All arrays must be of the same length"
     ]
    }
   ],
   "source": [
    "arrest_data_df = pd.DataFrame(arrest_data)\n",
    "(arrest_data_df)\n"
   ]
  },
  {
   "cell_type": "code",
   "execution_count": 39,
   "id": "1e059619-31e1-4975-af4d-68780e3f23f0",
   "metadata": {},
   "outputs": [],
   "source": []
  },
  {
   "cell_type": "code",
   "execution_count": null,
   "id": "8859e5dc-d023-45db-a738-04e1b368a781",
   "metadata": {},
   "outputs": [],
   "source": []
  }
 ],
 "metadata": {
  "kernelspec": {
   "display_name": "Python 3 (ipykernel)",
   "language": "python",
   "name": "python3"
  },
  "language_info": {
   "codemirror_mode": {
    "name": "ipython",
    "version": 3
   },
   "file_extension": ".py",
   "mimetype": "text/x-python",
   "name": "python",
   "nbconvert_exporter": "python",
   "pygments_lexer": "ipython3",
   "version": "3.10.14"
  }
 },
 "nbformat": 4,
 "nbformat_minor": 5
}
